{
 "cells": [
  {
   "cell_type": "code",
   "execution_count": 1,
   "metadata": {},
   "outputs": [
    {
     "name": "stdout",
     "output_type": "stream",
     "text": [
      "Welcome to JupyROOT 6.16/00\n"
     ]
    }
   ],
   "source": [
    "import numpy as np\n",
    "import matplotlib.pyplot as plt\n",
    "import math as math\n",
    "\n",
    "from ROOT import TCanvas, TGraphErrors, TF1, TH1F, TH2F, gStyle, TGraph\n",
    "from ROOT import gROOT\n",
    "from array import array"
   ]
  },
  {
   "cell_type": "code",
   "execution_count": 2,
   "metadata": {
    "scrolled": true
   },
   "outputs": [
    {
     "name": "stdout",
     "output_type": "stream",
     "text": [
      "[29, 28, 28, 44, 48, 58, 63, 72, 81]\n",
      "[23, 30, 38, 56, 42, 64, 64, 64, 81]\n",
      "[52, 58, 66, 100, 90, 122, 127, 136, 162]\n"
     ]
    }
   ],
   "source": [
    "x = [20, 40, 60, 80, 100, 120, 140, 160, 180, 200, 220, 240, 260, 280, 300, 320, 340]\n",
    "y = [29, 28, 28, 44, 48, 58, 63, 72, 81, 64, 64, 64, 42, 56, 38, 30, 23]\n",
    "\n",
    "y_rev = [23, 30, 38, 56, 42, 64, 64, 64, 81, 72, 63, 58, 48, 44, 28, 28, 29]\n",
    "\n",
    "x_new = [20, 40, 60, 80, 100, 120, 140, 160, 180]\n",
    "\n",
    "print y[:9] \n",
    "print y_rev[:9]\n",
    "\n",
    "y_new = [sum(x) for x in zip(y[:9], y_rev[:9])]\n",
    "print y_new\n",
    "\n"
   ]
  },
  {
   "cell_type": "code",
   "execution_count": 3,
   "metadata": {},
   "outputs": [],
   "source": [
    "x = [20, 40, 60, 80, 100, 120, 140, 160, 180, 200, 220, 240, 260, 280, 300, 320, 340]\n",
    "y = [29, 28, 28, 44, 48, 58, 63, 72, 81, 64, 64, 64, 42, 56, 38, 30, 23]\n",
    "\n",
    "data = []\n",
    "for i in range(0, len(x)):\n",
    "    for j in range(0, y[i]):\n",
    "        data.append(x[i])\n"
   ]
  },
  {
   "cell_type": "code",
   "execution_count": 4,
   "metadata": {},
   "outputs": [
    {
     "name": "stderr",
     "output_type": "stream",
     "text": [
      "Info in <TCanvas::Print>: eps file figure1.eps has been created\n"
     ]
    },
    {
     "data": {
      "image/png": "[encoded data removed]",
      "text/plain": [
       "<IPython.core.display.Image object>"
      ]
     },
     "metadata": {},
     "output_type": "display_data"
    }
   ],
   "source": [
    "#Create a canvas to draw your histograms and functions\n",
    "c1 = TCanvas( 'c1', 'title', 200, 10, 600, 400 ) \n",
    "\n",
    "histo = TH1F(\"histo\", \" \", 17, 10, 350) \n",
    "\n",
    "#Label the X-Y axis\n",
    "histo.GetYaxis().SetTitle(\" dNi \")\n",
    "histo.GetXaxis ().SetTitle (\" Theta (deg) \");\n",
    "\n",
    "for datapoint in data:\n",
    "    histo.Fill(datapoint)\n",
    "    \n",
    "#Draw your histogram with error bars and draw it on the canvas\n",
    "histo.SetFillColor(5)\n",
    "\n",
    "histo.Draw(\"E\")\n",
    "histo.Draw(\"same\")\n",
    "\n",
    "c1.Draw()\n",
    "c1.SaveAs('figure1.eps')"
   ]
  },
  {
   "cell_type": "code",
   "execution_count": 5,
   "metadata": {},
   "outputs": [],
   "source": [
    "data = []\n",
    "for i in range(0, len(x_new)):\n",
    "    for j in range(0, y_new[i]):\n",
    "        data.append(x_new[i])"
   ]
  },
  {
   "cell_type": "code",
   "execution_count": 6,
   "metadata": {},
   "outputs": [
    {
     "name": "stderr",
     "output_type": "stream",
     "text": [
      "Warning in <TROOT::Append>: Replacing existing TH1: histo (Potential memory leak).\n",
      "Info in <TCanvas::Print>: eps file figure2.eps has been created\n"
     ]
    },
    {
     "data": {
      "image/png": "[encoded data removed]",
      "text/plain": [
       "<IPython.core.display.Image object>"
      ]
     },
     "metadata": {},
     "output_type": "display_data"
    }
   ],
   "source": [
    "#Create a canvas to draw your histograms and functions\n",
    "c2 = TCanvas( 'c2', 'title', 200, 10, 600, 400 ) \n",
    "\n",
    "histo = TH1F(\"histo\", \" \", 9, 10, 190) \n",
    "\n",
    "#Label the X-Y axis\n",
    "histo.GetYaxis().SetTitle(\" dN \")\n",
    "histo.GetXaxis ().SetTitle (\" Theta (deg) \");\n",
    "\n",
    "#for i in range(0, len(x_new)):\n",
    "#    histo.Fill(x_new[i], y_new[i])\n",
    "\n",
    "for datapoint in data:\n",
    "    histo.Fill(datapoint)\n",
    "\n",
    "#Draw your histogram with error bars and draw it on the canvas\n",
    "histo.SetFillColor(7)\n",
    "\n",
    "histo.Draw(\"E\")\n",
    "histo.Draw(\"same\")\n",
    "\n",
    "c2.Draw()\n",
    "\n",
    "c2.SaveAs('figure2.eps')"
   ]
  },
  {
   "cell_type": "code",
   "execution_count": 7,
   "metadata": {},
   "outputs": [
    {
     "name": "stdout",
     "output_type": "stream",
     "text": [
      "[0.17364817766693033, 0.3420201433256687, 0.49999999999999994, 0.6427876096865393, 0.766044443118978, 0.8660254037844386, 0.9396926207859083, 0.984807753012208, 1.0]\n"
     ]
    }
   ],
   "source": [
    "x_new_2 = [10, 20, 30, 40, 50, 60, 70, 80, 90]\n",
    "y_new = [52, 58, 66, 100, 90, 122, 127, 136, 162]\n",
    "\n",
    "x_rad = [i*(math.pi/180) for i in x_new_2]\n",
    "\n",
    "x_final = [math.sin(i) for i in x_rad]\n",
    "y_final = y_new\n",
    "\n",
    "print x_final"
   ]
  },
  {
   "cell_type": "code",
   "execution_count": 8,
   "metadata": {},
   "outputs": [
    {
     "name": "stdout",
     "output_type": "stream",
     "text": [
      "\n",
      "****************************************\n",
      "Minimizer is Linear\n",
      "Chi2                      =       13.266\n",
      "NDf                       =            7\n",
      "p0                        =      22.7639   +/-   7.00346     \n",
      "p1                        =      111.803   +/-   10.7489     \n"
     ]
    },
    {
     "name": "stderr",
     "output_type": "stream",
     "text": [
      "Info in <TCanvas::Print>: eps file figure3.eps has been created\n"
     ]
    },
    {
     "data": {
      "image/png": "[encoded data removed]",
      "text/plain": [
       "<IPython.core.display.Image object>"
      ]
     },
     "metadata": {},
     "output_type": "display_data"
    }
   ],
   "source": [
    "sx =  array( 'f', [0 for i in x_final])\n",
    "sy =  array( 'f', [ math.sqrt(i) for i in y_final])\n",
    "\n",
    "c3 = TCanvas( 'c3', '', 200, 10, 600, 400 )\n",
    "gr = TGraph(len(x_final), array('f',x_final), array('f',y_final))\n",
    "gr = TGraphErrors(len(x_final), array('f',x_final), array('f',y_final), sx, sy)\n",
    "gr.SetLineColor( 3 )\n",
    "gr.SetLineWidth( 1 )\n",
    "gr.SetTitle( ' ' )\n",
    "gr.GetXaxis().SetTitle( 'Sin(teta/2)')\n",
    "gr.GetYaxis().SetTitle( 'dN' )\n",
    "gr.Draw('A*')\n",
    "\n",
    "l1 = TF1('l1', 'pol1')\n",
    "gr.Fit(l1,'','')\n",
    "gStyle.SetOptFit(1111)\n",
    "\n",
    "c3.Draw()\n",
    "\n",
    "c3.SaveAs('figure3.eps')"
   ]
  },
  {
   "cell_type": "code",
   "execution_count": null,
   "metadata": {},
   "outputs": [],
   "source": []
  }
 ],
 "metadata": {
  "kernelspec": {
   "display_name": "Python 2",
   "language": "python",
   "name": "python2"
  },
  "language_info": {
   "codemirror_mode": {
    "name": "ipython",
    "version": 2
   },
   "file_extension": ".py",
   "mimetype": "text/x-python",
   "name": "python",
   "nbconvert_exporter": "python",
   "pygments_lexer": "ipython2",
   "version": "2.7.15+"
  }
 },
 "nbformat": 4,
 "nbformat_minor": 2
}
